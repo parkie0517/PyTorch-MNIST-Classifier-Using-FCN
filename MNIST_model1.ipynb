{
  "cells": [
    {
      "cell_type": "markdown",
      "metadata": {
        "id": "jsIDAKfo6ha6"
      },
      "source": [
        "# MNIST 실습 (Pytorch)"
      ]
    },
    {
      "cell_type": "markdown",
      "metadata": {
        "id": "02aQ79aA6ha7"
      },
      "source": [
        "# 1. 환경 설정"
      ]
    },
    {
      "cell_type": "code",
      "execution_count": 1,
      "metadata": {
        "id": "jZtnC00b6ha7"
      },
      "outputs": [],
      "source": [
        "import torch\n",
        "import torch.nn as nn\n",
        "import torch.nn.functional as F\n",
        "import torch.optim as optim\n",
        "from torchvision import datasets, transforms\n",
        "\n",
        "import numpy as np\n",
        "import matplotlib.pyplot as plt"
      ]
    },
    {
      "cell_type": "markdown",
      "metadata": {
        "id": "5xOSFRuD6ha7"
      },
      "source": [
        "*먼저, GPU 사용 여부를 결정합니다.*"
      ]
    },
    {
      "cell_type": "code",
      "execution_count": 2,
      "metadata": {
        "colab": {
          "base_uri": "https://localhost:8080/"
        },
        "id": "etOHzERc6ha7",
        "outputId": "b6bf15a9-f9a2-43b6-c94a-d44581e8c5e6"
      },
      "outputs": [
        {
          "name": "stdout",
          "output_type": "stream",
          "text": [
            "cuda\n"
          ]
        }
      ],
      "source": [
        "if torch.cuda.is_available():\n",
        "    device = torch.device(\"cuda\" )\n",
        "    use_cuda = True\n",
        "else:\n",
        "    device = torch.device(\"cpu\")\n",
        "    use_cuda = False\n",
        "\n",
        "print(device)"
      ]
    },
    {
      "cell_type": "markdown",
      "metadata": {
        "id": "M5KINtXQCQue"
      },
      "source": [
        "# 2. 데이터 준비"
      ]
    },
    {
      "cell_type": "markdown",
      "metadata": {
        "id": "XXZzjUD-6ha7"
      },
      "source": [
        "- 토치에서 random seed를 고정하기 위해 manual_seed()를 사용한다.\n",
        "- random seed를 고정한다는 말은 동일한 셋트의 난수를 생성할 수 있게 하는 것이다."
      ]
    },
    {
      "cell_type": "code",
      "execution_count": 3,
      "metadata": {
        "colab": {
          "base_uri": "https://localhost:8080/"
        },
        "id": "GUjn6pxQ_bOQ",
        "outputId": "ebe6708a-2dc9-49a9-ef0f-4ea843f2a5f6"
      },
      "outputs": [
        {
          "data": {
            "text/plain": [
              "<torch._C.Generator at 0x78e80c5d7d70>"
            ]
          },
          "execution_count": 3,
          "metadata": {},
          "output_type": "execute_result"
        }
      ],
      "source": [
        "seed = 1\n",
        "torch.manual_seed(seed)"
      ]
    },
    {
      "cell_type": "markdown",
      "metadata": {
        "id": "mNhQI0CRp_rJ"
      },
      "source": [
        "데이터를 불러오기 전에 데이터 전처리 과정을 미리 정의하기\n",
        "\n",
        "---\n",
        "\n",
        "torchvision.transforms 모듈은\n",
        "1. pre-processing\n",
        "2. data augmentation\n",
        "아래 링크 참고하기\n",
        "\n",
        "https://wikidocs.net/194919\n",
        "\n",
        "---\n",
        "\n",
        "ToTensor() 사용 이유\n",
        "\n",
        "1. 배열구조 변환\n",
        "이미지 또는 넘파이 배열은 HWC순이다.\n",
        "ToTensor()를 사용하면 토치의 배열 구조인 CHW로 변환해준다.\n",
        "\n",
        "2. 값의 크기를 조정(scaling)\n",
        "0-255 → 0-1\n"
      ]
    },
    {
      "cell_type": "code",
      "execution_count": 4,
      "metadata": {
        "id": "D_a8NbUrpkNQ"
      },
      "outputs": [],
      "source": [
        "transform = transforms.Compose([\n",
        "    transforms.ToTensor() # 텐서로 변환\n",
        "])"
      ]
    },
    {
      "cell_type": "markdown",
      "metadata": {
        "id": "nO31Orm76ha7"
      },
      "source": [
        "Train, validation, test data를 설정합시다.\n",
        "\n",
        "---\n",
        "\n",
        "Dataset 은 샘플과 정답(label)을 저장하고\n",
        "dataset 클래스는 __len__()과 __getitem__()이 꼭 있어야 함!\n",
        "\n",
        "DataLoader 는 Dataset 을 샘플에 쉽게 접근할 수 있도록 순회 가능한 객체(iterable)로 감쌉니다.\n",
        "- 이때 중요한 것은 batch 크기 데이터를 불러오는 걸 해준다.\n",
        "\n",
        "- shuffle = true : each epoch 마다 데이터 학습되는 순서가 변경된다.\n",
        "\n",
        "아래 링크 참고하기\n",
        "https://wikidocs.net/156998\n",
        "\n",
        "---\n",
        "torch.utils.data.random_split()함수\n",
        "- 데이터를 random 하게 split"
      ]
    },
    {
      "cell_type": "code",
      "execution_count": 25,
      "metadata": {
        "id": "683pcSv06ha7"
      },
      "outputs": [],
      "source": [
        "batch_size = 32\n",
        "test_batch_size = 1024\n",
        "\n",
        "train_ratio = 0.8\n",
        "validation_ratio = 0.2\n",
        "\n",
        "mnist_train = datasets.MNIST('../data', train=True, download=True, transform=transform)\n",
        "mnist_test = datasets.MNIST('../data', train=False, download=True, transform=transform)\n",
        "len_mnist_train = len(mnist_train)\n",
        "train_size = int(len_mnist_train * train_ratio)\n",
        "validation_size = int(len_mnist_train * validation_ratio)\n",
        "\n",
        "train_dataset, validation_dataset = torch.utils.data.random_split(mnist_train, [train_size, validation_size])\n",
        "\n",
        "train_loader = torch.utils.data.DataLoader(train_dataset, batch_size = batch_size, shuffle=True)\n",
        "validation_loader = torch.utils.data.DataLoader(validation_dataset, batch_size = batch_size, shuffle=True)\n",
        "test_loader = torch.utils.data.DataLoader(mnist_test, batch_size=test_batch_size, shuffle=True)"
      ]
    },
    {
      "cell_type": "markdown",
      "metadata": {
        "id": "EuDgBNhl6ha8"
      },
      "source": [
        "*다운받은 data를 확인해보겠습니다.*"
      ]
    },
    {
      "cell_type": "code",
      "execution_count": 27,
      "metadata": {
        "colab": {
          "base_uri": "https://localhost:8080/"
        },
        "id": "udrrzS2K6ha8",
        "outputId": "7c04254c-b18b-433d-aaaa-b2e550dbc936"
      },
      "outputs": [
        {
          "name": "stdout",
          "output_type": "stream",
          "text": [
            "torch.Size([32, 1, 28, 28])\n",
            "tensor([3, 4, 7, 2, 9, 3, 9, 5, 8, 9, 7, 7, 7, 1, 9, 5, 7, 0, 3, 3, 4, 3, 7, 3,\n",
            "        4, 8, 7, 9, 4, 3, 5, 3])\n",
            "배치 크기: 32\n"
          ]
        }
      ],
      "source": [
        "# 해당 셀을 계속해서 실행하면 next()함수로 인해 다음 데이터가 반환된다.\n",
        "# 그래서 출력 결과가 매번 다를 것이다.\n",
        "it_train = iter(train_loader)\n",
        "img, label = next(it_train) # train loader에서 하나씩 꺼내려면 iter를 사용하면 된다.\n",
        "#train x, train y\n",
        "\n",
        "print(img.shape) # torch.Size는 순서대로 ([batch_size, color, height, width])를 의미합니다.\n",
        "print(label)\n",
        "print(f\"배치 크기: {len(label)}\")"
      ]
    },
    {
      "cell_type": "markdown",
      "metadata": {
        "id": "QJLPSuCf6ha8"
      },
      "source": [
        "\n",
        "\n",
        "*batch_size와 color 차원을 제거하고 이미지를 랜더링 해봅시다.*"
      ]
    },
    {
      "cell_type": "code",
      "execution_count": 28,
      "metadata": {
        "colab": {
          "base_uri": "https://localhost:8080/",
          "height": 448
        },
        "id": "-muaftjV6ha8",
        "outputId": "0b4c69bf-1cb5-473d-d5fd-16da8f999d0c"
      },
      "outputs": [
        {
          "data": {
            "image/png": "[encoded data removed]",
            "text/plain": [
              "<Figure size 640x480 with 1 Axes>"
            ]
          },
          "metadata": {},
          "output_type": "display_data"
        },
        {
          "name": "stdout",
          "output_type": "stream",
          "text": [
            "tensor(3)\n"
          ]
        }
      ],
      "source": [
        "index = 0\n",
        "img_show = img[index, 0, :, :] # 암기하기     [ batchsize, channel, height, width ]\n",
        "plt.imshow(img_show, 'gray') # plt.imshow() 함수는 좌표평면 위에 이미지를 출력\n",
        "plt.show() # 이건 imshow() 다음에 꼭 사용하기\n",
        "print(label[index])"
      ]
    },
    {
      "cell_type": "markdown",
      "metadata": {
        "id": "mlUp8Q8_Coju"
      },
      "source": [
        "# 3. 모델 정의\n",
        "\n",
        "모델 1은\n",
        "- 레이어1: 16개의 노드\n",
        "- 레이어2: 10개의 노드"
      ]
    },
    {
      "cell_type": "markdown",
      "metadata": {
        "id": "GPspXJgA49Yj"
      },
      "source": [
        "이때 torch.nn.Module을 상속받아야 한다. (상속: 어떤 클래스를 만들 때 다른 클래스의 기능을 가져오는 것)\n",
        "\n",
        "이때 __init()__과 forward()를 override해야한다. (override: 부모 클래스인 torch.nn.Module에서 정의한 메소드를 자식 클래스에서 변경하는 것)\n",
        "- __init()__ : layer를 정의하는 곳\n",
        "- forward() : 모델에서 실행되는 계산을 정의. backward()는 토치에서 알아서 해준다!\n",
        "\n",
        "---\n",
        "\n",
        "forward() 함수\n",
        "- 보면, view() 함수를 사용한다. view는 reshape하는 함수이다. 링크를 참고해라! (https://jimmy-ai.tistory.com/151)\n",
        "- F.log_softmax()함수는 log(softmax)랑 같은 개념. softmax 사용 시 vanishing gradient 문제 때문에, 이걸 사용하는 경우가 많음."
      ]
    },
    {
      "cell_type": "code",
      "execution_count": 57,
      "metadata": {
        "id": "x_TzBWET6ha9"
      },
      "outputs": [],
      "source": [
        "class NeuralNetwork(torch.nn.Module): # 토치에서는 모델을 정의할 때 class로 만들어야한다.\n",
        "    def __init__(self):\n",
        "        super(NeuralNetwork, self).__init__()\n",
        "\n",
        "        # Layer 정의\n",
        "        self.fc1 = nn.Linear(784, 16)\n",
        "        self.fc2 = nn.Linear(16, 10)\n",
        "\n",
        "  # Layer 쌓기\n",
        "    def forward(self, x):\n",
        "        x = x.float() # x는 입력받는 이미지를 의미함\n",
        "        h1 = F.relu(self.fc1(x.view(-1, 784))) # import torch.nn.functional as F\n",
        "        h2 = self.fc2(h1)\n",
        "        return F.log_softmax(h2, dim=1)"
      ]
    },
    {
      "cell_type": "code",
      "execution_count": 58,
      "metadata": {
        "id": "Hz_4JfVm6ha-"
      },
      "outputs": [],
      "source": [
        "model = NeuralNetwork().to(device) # to(device)로 모델 gpu에 보내기"
      ]
    },
    {
      "cell_type": "markdown",
      "metadata": {
        "id": "QlE2x-sxoGml"
      },
      "source": [
        "# 4. 모델 학습"
      ]
    },
    {
      "cell_type": "markdown",
      "metadata": {
        "id": "pGfWQrgnpEE-"
      },
      "source": [
        "아래는 enumerate의 실행 결과\n",
        "\n",
        "```\n",
        "list1 = [1, 2, 3, 4, 5, 6, 10]\n",
        "for idx, data in enumerate(list1):\n",
        "    print(idx, data)\n",
        "\n",
        "0 1\n",
        "1 2\n",
        "2 3\n",
        "3 4\n",
        "4 5\n",
        "5 6\n",
        "6 10\n",
        "```\n",
        "\n",
        "\n"
      ]
    },
    {
      "cell_type": "markdown",
      "metadata": {
        "id": "1NVwg9Zv6ha-"
      },
      "source": [
        "*네트워크를 학습시키기 위해서 train 함수를 정의합니다.*"
      ]
    },
    {
      "cell_type": "code",
      "execution_count": 51,
      "metadata": {
        "id": "TDfXDYWn6ha-"
      },
      "outputs": [],
      "source": [
        "def train(log_interval, model, device, train_loader, optimizer, epoch):\n",
        "    flag = True\n",
        "    for batch_idx, (data, target) in enumerate(train_loader): # data를 하나씩 주는 게 아니라 batch 크기만큼 준다. 그래서 batch_idx를 사용하는 것이다.\n",
        "        data, target = data.to(device), target.to(device) # 데이터를 target device에 올려야 한다.\n",
        "        optimizer.zero_grad() # optimzer를 초기화\n",
        "        output = model(data)\n",
        "        loss = F.nll_loss(output, target) # nll_loss(log_softmax) = cross entropy loss. 이미 forward 연산에서 log_softmax를 사용했으니깐, 요기서는 그냥 nll_loss만 사용해도 된다.\n",
        "        loss.backward() # backprop을 통한 gradient 계산\n",
        "        optimizer.step() # 실제 parameter의 값이 update되는 코드\n",
        "\n",
        "        if flag:\n",
        "          flag = False\n",
        "          print(target.shape, output.shape)\n",
        "\n",
        "        if batch_idx % log_interval == 0:\n",
        "            print('Train Epoch: {} [{}/{} ({:.0f}%)]\\tLoss: {:.6f}'.format(\n",
        "                epoch+1, batch_idx * len(data), len(train_loader.dataset),\n",
        "                100. * batch_idx / len(train_loader), loss.item()))"
      ]
    },
    {
      "cell_type": "markdown",
      "metadata": {
        "id": "SOyL39QhxAT4"
      },
      "source": [
        "*네트워크를 검증하기 위해서 validation 함수를 정의합니다.*\n",
        "\n",
        "---\n",
        "\n",
        "nll_loss()함수의 자세한 설명\n",
        "- nll_loss() 함수를 통해 계산된 loss는 item() 함수로 가져올 수 있다!\n",
        "- 이때 reduction='sum'을 사용하면, mini-batch안에 있는 모든 sample에 대한 loss를 sum하게 된다.\n",
        "- 만약, reduction='mean' (default setting)을 하면, batch안에 있는 모든 sample의 loss에 대한 평균을 구한다. 이건 training 때 사용되는 방법이다\n",
        "---\n",
        "argmax() 함수 실행 예시\n",
        "```\n",
        "#코드\n",
        "it = iter(train_loader)\n",
        "data, target = next(it)\n",
        "data, target = data.to(device), target.to(device)\n",
        "output = model(data)\n",
        "print(output[0])\n",
        "pred = output.argmax(dim=1, keepdim=True) # dim = 0은 열 기준, dim = 1은 행 기준으로 max 값의 idx를 반환\n",
        "print(pred[[0]])\n",
        "\n",
        "#결과\n",
        "tensor([-2.4081, -2.3636, -2.2304, -2.1932, -2.4621, -2.4544, -2.3904, -2.2540,\n",
        "        -2.2461, -2.0929], device='cuda:0', grad_fn=<SelectBackward0>)\n",
        "tensor([[9]], device='cuda:0')\n",
        "```\n",
        "\n"
      ]
    },
    {
      "cell_type": "code",
      "execution_count": 52,
      "metadata": {
        "id": "I3qsed7ww1e2"
      },
      "outputs": [],
      "source": [
        "def validation(model, device, validation_loader):\n",
        "    validation_loss = 0\n",
        "    correct = 0\n",
        "    with torch.no_grad(): #gradient calculation을 하지 않아서 computation 절약 가능\n",
        "        for data, target in validation_loader:\n",
        "            data, target = data.to(device), target.to(device)\n",
        "            output = model(data)\n",
        "            validation_loss += F.nll_loss(output, target, reduction='sum').item()\n",
        "            pred = output.argmax(dim=1, keepdim=True) # keepdim=True는 차원 유지하고 싶을 때 사용하는 코드인데, 굳이 알 필요 없다\n",
        "            correct += pred.eq(target.view_as(pred)).sum().item()\n",
        "            # eq()함수는 각 텐서의 element-wise하게 비교하여 같다면 true 반환, 틀리면 false 반환\n",
        "            # target.view_as(pred)는 pred의 shape과 target이 같도록 reshape하는 방법\n",
        "            # 그 다음 sum, item은 일단 몰라도 된다. skip하자\n",
        "\n",
        "\n",
        "    validation_loss /= len(validation_loader.dataset) # dataset의 길이만큼 나누니깐 validation dataset 전체의 개수로 나누는 것이다. 즉, validation dataset loss의 평균을 구하는 식을 의미한다.\n",
        "\n",
        "    print('\\nValidation set: Average loss: {:.4f}, Accuracy: {}/{} ({:.0f}%)\\n'.format\n",
        "          (validation_loss, correct, len(validation_loader.dataset),\n",
        "        100. * correct / len(validation_loader.dataset)))"
      ]
    },
    {
      "cell_type": "markdown",
      "metadata": {
        "id": "nKX45eTT6ha-"
      },
      "source": [
        "*네트워크의 학습 결과를 보기 위해서 test 함수를 정의합니다.*"
      ]
    },
    {
      "cell_type": "code",
      "execution_count": 53,
      "metadata": {
        "id": "nLLVVbh66ha-"
      },
      "outputs": [],
      "source": [
        "def test(model, device, test_loader):\n",
        "    test_loss = 0\n",
        "    correct = 0\n",
        "    with torch.no_grad(): #gradient calculation을 하지 않아서 computation 절약 가능\n",
        "        for data, target in test_loader:\n",
        "            data, target = data.to(device), target.to(device)\n",
        "            output = model(data)\n",
        "            test_loss += F.nll_loss(output, target, reduction='sum').item()\n",
        "            pred = output.argmax(dim=1, keepdim=True)\n",
        "            correct += pred.eq(target.view_as(pred)).sum().item()\n",
        "\n",
        "    test_loss /= len(test_loader.dataset)\n",
        "\n",
        "    print('\\nTest set: Average loss: {:.4f}, Accuracy: {}/{} ({:.0f}%)\\n'.format\n",
        "          (test_loss, correct, len(test_loader.dataset),\n",
        "        100. * correct / len(test_loader.dataset)))"
      ]
    },
    {
      "cell_type": "code",
      "execution_count": 60,
      "metadata": {
        "id": "g2oH_VqI6ha7"
      },
      "outputs": [],
      "source": [
        "epochs = 50\n",
        "lr = 0.01           # learning rate\n",
        "momentum = 0.5      # optimizer parameter\n",
        "log_interval = 200\n",
        "optimizer = optim.SGD(model.parameters(), lr=lr, momentum=momentum)\n",
        "# kwargs = {'num_workers': 1, 'pin_memory': True} if use_cuda else {} # num of workers랑 pin memory는 나중에 공부하기. 지금은 몰라도 된다."
      ]
    },
    {
      "cell_type": "markdown",
      "metadata": {
        "id": "3z_sqcLg6ha-"
      },
      "source": [
        "*위에서 정의한 함수를 사용하여 네트워크 학습을 진행 해봅시다.*"
      ]
    },
    {
      "cell_type": "code",
      "execution_count": 61,
      "metadata": {
        "colab": {
          "base_uri": "https://localhost:8080/"
        },
        "id": "SEwkYP9n6ha_",
        "outputId": "14cd9abc-dd33-45a2-c5e6-e61e762cc75e"
      },
      "outputs": [
        {
          "name": "stdout",
          "output_type": "stream",
          "text": [
            "torch.Size([32]) torch.Size([32, 10])\n",
            "Train Epoch: 1 [0/48000 (0%)]\tLoss: 2.279796\n",
            "Train Epoch: 1 [6400/48000 (13%)]\tLoss: 1.216280\n",
            "Train Epoch: 1 [12800/48000 (27%)]\tLoss: 0.741805\n",
            "Train Epoch: 1 [19200/48000 (40%)]\tLoss: 0.566434\n",
            "Train Epoch: 1 [25600/48000 (53%)]\tLoss: 0.740583\n",
            "Train Epoch: 1 [32000/48000 (67%)]\tLoss: 0.327765\n",
            "Train Epoch: 1 [38400/48000 (80%)]\tLoss: 0.826041\n",
            "Train Epoch: 1 [44800/48000 (93%)]\tLoss: 0.169102\n",
            "\n",
            "Validation set: Average loss: 0.3826, Accuracy: 10664/12000 (89%)\n",
            "\n",
            "torch.Size([32]) torch.Size([32, 10])\n",
            "Train Epoch: 2 [0/48000 (0%)]\tLoss: 0.245812\n",
            "Train Epoch: 2 [6400/48000 (13%)]\tLoss: 0.512036\n",
            "Train Epoch: 2 [12800/48000 (27%)]\tLoss: 0.361296\n",
            "Train Epoch: 2 [19200/48000 (40%)]\tLoss: 0.239665\n",
            "Train Epoch: 2 [25600/48000 (53%)]\tLoss: 0.205330\n",
            "Train Epoch: 2 [32000/48000 (67%)]\tLoss: 0.410364\n",
            "Train Epoch: 2 [38400/48000 (80%)]\tLoss: 0.246055\n",
            "Train Epoch: 2 [44800/48000 (93%)]\tLoss: 0.137219\n",
            "\n",
            "Validation set: Average loss: 0.3327, Accuracy: 10856/12000 (90%)\n",
            "\n",
            "torch.Size([32]) torch.Size([32, 10])\n",
            "Train Epoch: 3 [0/48000 (0%)]\tLoss: 0.239962\n",
            "Train Epoch: 3 [6400/48000 (13%)]\tLoss: 0.584900\n",
            "Train Epoch: 3 [12800/48000 (27%)]\tLoss: 0.231256\n",
            "Train Epoch: 3 [19200/48000 (40%)]\tLoss: 0.339476\n",
            "Train Epoch: 3 [25600/48000 (53%)]\tLoss: 0.396283\n",
            "Train Epoch: 3 [32000/48000 (67%)]\tLoss: 0.158808\n",
            "Train Epoch: 3 [38400/48000 (80%)]\tLoss: 0.100943\n",
            "Train Epoch: 3 [44800/48000 (93%)]\tLoss: 0.511130\n",
            "\n",
            "Validation set: Average loss: 0.3041, Accuracy: 10939/12000 (91%)\n",
            "\n",
            "torch.Size([32]) torch.Size([32, 10])\n",
            "Train Epoch: 4 [0/48000 (0%)]\tLoss: 0.280360\n",
            "Train Epoch: 4 [6400/48000 (13%)]\tLoss: 0.208797\n",
            "Train Epoch: 4 [12800/48000 (27%)]\tLoss: 0.060162\n",
            "Train Epoch: 4 [19200/48000 (40%)]\tLoss: 0.259683\n",
            "Train Epoch: 4 [25600/48000 (53%)]\tLoss: 0.268436\n",
            "Train Epoch: 4 [32000/48000 (67%)]\tLoss: 0.199535\n",
            "Train Epoch: 4 [38400/48000 (80%)]\tLoss: 0.425739\n",
            "Train Epoch: 4 [44800/48000 (93%)]\tLoss: 0.111526\n",
            "\n",
            "Validation set: Average loss: 0.2892, Accuracy: 10977/12000 (91%)\n",
            "\n",
            "torch.Size([32]) torch.Size([32, 10])\n",
            "Train Epoch: 5 [0/48000 (0%)]\tLoss: 0.208695\n",
            "Train Epoch: 5 [6400/48000 (13%)]\tLoss: 0.245185\n",
            "Train Epoch: 5 [12800/48000 (27%)]\tLoss: 0.181626\n",
            "Train Epoch: 5 [19200/48000 (40%)]\tLoss: 0.420235\n",
            "Train Epoch: 5 [25600/48000 (53%)]\tLoss: 0.227717\n",
            "Train Epoch: 5 [32000/48000 (67%)]\tLoss: 0.353995\n",
            "Train Epoch: 5 [38400/48000 (80%)]\tLoss: 0.328915\n",
            "Train Epoch: 5 [44800/48000 (93%)]\tLoss: 0.132069\n",
            "\n",
            "Validation set: Average loss: 0.2801, Accuracy: 11024/12000 (92%)\n",
            "\n",
            "torch.Size([32]) torch.Size([32, 10])\n",
            "Train Epoch: 6 [0/48000 (0%)]\tLoss: 0.141269\n",
            "Train Epoch: 6 [6400/48000 (13%)]\tLoss: 0.210291\n",
            "Train Epoch: 6 [12800/48000 (27%)]\tLoss: 0.306635\n",
            "Train Epoch: 6 [19200/48000 (40%)]\tLoss: 0.353991\n",
            "Train Epoch: 6 [25600/48000 (53%)]\tLoss: 0.087227\n",
            "Train Epoch: 6 [32000/48000 (67%)]\tLoss: 0.231108\n",
            "Train Epoch: 6 [38400/48000 (80%)]\tLoss: 0.135878\n",
            "Train Epoch: 6 [44800/48000 (93%)]\tLoss: 0.277734\n",
            "\n",
            "Validation set: Average loss: 0.2748, Accuracy: 11058/12000 (92%)\n",
            "\n",
            "torch.Size([32]) torch.Size([32, 10])\n",
            "Train Epoch: 7 [0/48000 (0%)]\tLoss: 0.040373\n",
            "Train Epoch: 7 [6400/48000 (13%)]\tLoss: 0.293843\n",
            "Train Epoch: 7 [12800/48000 (27%)]\tLoss: 0.628972\n",
            "Train Epoch: 7 [19200/48000 (40%)]\tLoss: 0.097472\n",
            "Train Epoch: 7 [25600/48000 (53%)]\tLoss: 0.192557\n",
            "Train Epoch: 7 [32000/48000 (67%)]\tLoss: 0.182458\n",
            "Train Epoch: 7 [38400/48000 (80%)]\tLoss: 0.174499\n",
            "Train Epoch: 7 [44800/48000 (93%)]\tLoss: 0.253041\n",
            "\n",
            "Validation set: Average loss: 0.2576, Accuracy: 11091/12000 (92%)\n",
            "\n",
            "torch.Size([32]) torch.Size([32, 10])\n",
            "Train Epoch: 8 [0/48000 (0%)]\tLoss: 0.396053\n",
            "Train Epoch: 8 [6400/48000 (13%)]\tLoss: 0.373726\n",
            "Train Epoch: 8 [12800/48000 (27%)]\tLoss: 0.285379\n",
            "Train Epoch: 8 [19200/48000 (40%)]\tLoss: 0.313342\n",
            "Train Epoch: 8 [25600/48000 (53%)]\tLoss: 0.355293\n",
            "Train Epoch: 8 [32000/48000 (67%)]\tLoss: 0.191179\n",
            "Train Epoch: 8 [38400/48000 (80%)]\tLoss: 0.416496\n",
            "Train Epoch: 8 [44800/48000 (93%)]\tLoss: 0.095610\n",
            "\n",
            "Validation set: Average loss: 0.2504, Accuracy: 11111/12000 (93%)\n",
            "\n",
            "torch.Size([32]) torch.Size([32, 10])\n",
            "Train Epoch: 9 [0/48000 (0%)]\tLoss: 0.049016\n",
            "Train Epoch: 9 [6400/48000 (13%)]\tLoss: 0.190019\n",
            "Train Epoch: 9 [12800/48000 (27%)]\tLoss: 0.127470\n",
            "Train Epoch: 9 [19200/48000 (40%)]\tLoss: 0.162045\n",
            "Train Epoch: 9 [25600/48000 (53%)]\tLoss: 0.167712\n",
            "Train Epoch: 9 [32000/48000 (67%)]\tLoss: 0.258116\n",
            "Train Epoch: 9 [38400/48000 (80%)]\tLoss: 0.187718\n",
            "Train Epoch: 9 [44800/48000 (93%)]\tLoss: 0.222826\n",
            "\n",
            "Validation set: Average loss: 0.2424, Accuracy: 11142/12000 (93%)\n",
            "\n",
            "torch.Size([32]) torch.Size([32, 10])\n",
            "Train Epoch: 10 [0/48000 (0%)]\tLoss: 0.351986\n",
            "Train Epoch: 10 [6400/48000 (13%)]\tLoss: 0.205883\n",
            "Train Epoch: 10 [12800/48000 (27%)]\tLoss: 0.269092\n",
            "Train Epoch: 10 [19200/48000 (40%)]\tLoss: 0.078186\n",
            "Train Epoch: 10 [25600/48000 (53%)]\tLoss: 0.338790\n",
            "Train Epoch: 10 [32000/48000 (67%)]\tLoss: 0.319164\n",
            "Train Epoch: 10 [38400/48000 (80%)]\tLoss: 0.123679\n",
            "Train Epoch: 10 [44800/48000 (93%)]\tLoss: 0.534571\n",
            "\n",
            "Validation set: Average loss: 0.2390, Accuracy: 11148/12000 (93%)\n",
            "\n",
            "torch.Size([32]) torch.Size([32, 10])\n",
            "Train Epoch: 11 [0/48000 (0%)]\tLoss: 0.072889\n",
            "Train Epoch: 11 [6400/48000 (13%)]\tLoss: 0.121799\n",
            "Train Epoch: 11 [12800/48000 (27%)]\tLoss: 0.341198\n",
            "Train Epoch: 11 [19200/48000 (40%)]\tLoss: 0.060640\n",
            "Train Epoch: 11 [25600/48000 (53%)]\tLoss: 0.122843\n",
            "Train Epoch: 11 [32000/48000 (67%)]\tLoss: 0.313681\n",
            "Train Epoch: 11 [38400/48000 (80%)]\tLoss: 0.354732\n",
            "Train Epoch: 11 [44800/48000 (93%)]\tLoss: 0.082369\n",
            "\n",
            "Validation set: Average loss: 0.2326, Accuracy: 11159/12000 (93%)\n",
            "\n",
            "torch.Size([32]) torch.Size([32, 10])\n",
            "Train Epoch: 12 [0/48000 (0%)]\tLoss: 0.258014\n",
            "Train Epoch: 12 [6400/48000 (13%)]\tLoss: 0.228003\n",
            "Train Epoch: 12 [12800/48000 (27%)]\tLoss: 0.403134\n",
            "Train Epoch: 12 [19200/48000 (40%)]\tLoss: 0.279866\n",
            "Train Epoch: 12 [25600/48000 (53%)]\tLoss: 0.208310\n",
            "Train Epoch: 12 [32000/48000 (67%)]\tLoss: 0.169621\n",
            "Train Epoch: 12 [38400/48000 (80%)]\tLoss: 0.147728\n",
            "Train Epoch: 12 [44800/48000 (93%)]\tLoss: 0.099583\n",
            "\n",
            "Validation set: Average loss: 0.2285, Accuracy: 11191/12000 (93%)\n",
            "\n",
            "torch.Size([32]) torch.Size([32, 10])\n",
            "Train Epoch: 13 [0/48000 (0%)]\tLoss: 0.144102\n",
            "Train Epoch: 13 [6400/48000 (13%)]\tLoss: 0.241310\n",
            "Train Epoch: 13 [12800/48000 (27%)]\tLoss: 0.279896\n",
            "Train Epoch: 13 [19200/48000 (40%)]\tLoss: 0.164439\n",
            "Train Epoch: 13 [25600/48000 (53%)]\tLoss: 0.077324\n",
            "Train Epoch: 13 [32000/48000 (67%)]\tLoss: 0.236050\n",
            "Train Epoch: 13 [38400/48000 (80%)]\tLoss: 0.289238\n",
            "Train Epoch: 13 [44800/48000 (93%)]\tLoss: 0.273976\n",
            "\n",
            "Validation set: Average loss: 0.2225, Accuracy: 11210/12000 (93%)\n",
            "\n",
            "torch.Size([32]) torch.Size([32, 10])\n",
            "Train Epoch: 14 [0/48000 (0%)]\tLoss: 0.071313\n",
            "Train Epoch: 14 [6400/48000 (13%)]\tLoss: 0.082649\n",
            "Train Epoch: 14 [12800/48000 (27%)]\tLoss: 0.224606\n",
            "Train Epoch: 14 [19200/48000 (40%)]\tLoss: 0.069125\n",
            "Train Epoch: 14 [25600/48000 (53%)]\tLoss: 0.104680\n",
            "Train Epoch: 14 [32000/48000 (67%)]\tLoss: 0.096017\n",
            "Train Epoch: 14 [38400/48000 (80%)]\tLoss: 0.096882\n",
            "Train Epoch: 14 [44800/48000 (93%)]\tLoss: 0.092197\n",
            "\n",
            "Validation set: Average loss: 0.2213, Accuracy: 11218/12000 (93%)\n",
            "\n",
            "torch.Size([32]) torch.Size([32, 10])\n",
            "Train Epoch: 15 [0/48000 (0%)]\tLoss: 0.110907\n",
            "Train Epoch: 15 [6400/48000 (13%)]\tLoss: 0.202490\n",
            "Train Epoch: 15 [12800/48000 (27%)]\tLoss: 0.139456\n",
            "Train Epoch: 15 [19200/48000 (40%)]\tLoss: 0.223567\n",
            "Train Epoch: 15 [25600/48000 (53%)]\tLoss: 0.305823\n",
            "Train Epoch: 15 [32000/48000 (67%)]\tLoss: 0.222133\n",
            "Train Epoch: 15 [38400/48000 (80%)]\tLoss: 0.099428\n",
            "Train Epoch: 15 [44800/48000 (93%)]\tLoss: 0.247052\n",
            "\n",
            "Validation set: Average loss: 0.2169, Accuracy: 11215/12000 (93%)\n",
            "\n",
            "torch.Size([32]) torch.Size([32, 10])\n",
            "Train Epoch: 16 [0/48000 (0%)]\tLoss: 0.034201\n",
            "Train Epoch: 16 [6400/48000 (13%)]\tLoss: 0.389731\n",
            "Train Epoch: 16 [12800/48000 (27%)]\tLoss: 0.158700\n",
            "Train Epoch: 16 [19200/48000 (40%)]\tLoss: 0.362977\n",
            "Train Epoch: 16 [25600/48000 (53%)]\tLoss: 0.398257\n",
            "Train Epoch: 16 [32000/48000 (67%)]\tLoss: 0.099470\n",
            "Train Epoch: 16 [38400/48000 (80%)]\tLoss: 0.352474\n",
            "Train Epoch: 16 [44800/48000 (93%)]\tLoss: 0.326973\n",
            "\n",
            "Validation set: Average loss: 0.2078, Accuracy: 11253/12000 (94%)\n",
            "\n",
            "torch.Size([32]) torch.Size([32, 10])\n",
            "Train Epoch: 17 [0/48000 (0%)]\tLoss: 0.300816\n",
            "Train Epoch: 17 [6400/48000 (13%)]\tLoss: 0.177264\n",
            "Train Epoch: 17 [12800/48000 (27%)]\tLoss: 0.127155\n",
            "Train Epoch: 17 [19200/48000 (40%)]\tLoss: 0.247923\n",
            "Train Epoch: 17 [25600/48000 (53%)]\tLoss: 0.072513\n",
            "Train Epoch: 17 [32000/48000 (67%)]\tLoss: 0.361187\n",
            "Train Epoch: 17 [38400/48000 (80%)]\tLoss: 0.176885\n",
            "Train Epoch: 17 [44800/48000 (93%)]\tLoss: 0.103044\n",
            "\n",
            "Validation set: Average loss: 0.2044, Accuracy: 11265/12000 (94%)\n",
            "\n",
            "torch.Size([32]) torch.Size([32, 10])\n",
            "Train Epoch: 18 [0/48000 (0%)]\tLoss: 0.363661\n",
            "Train Epoch: 18 [6400/48000 (13%)]\tLoss: 0.105015\n",
            "Train Epoch: 18 [12800/48000 (27%)]\tLoss: 0.126446\n",
            "Train Epoch: 18 [19200/48000 (40%)]\tLoss: 0.144522\n",
            "Train Epoch: 18 [25600/48000 (53%)]\tLoss: 0.079200\n",
            "Train Epoch: 18 [32000/48000 (67%)]\tLoss: 0.100367\n",
            "Train Epoch: 18 [38400/48000 (80%)]\tLoss: 0.182999\n",
            "Train Epoch: 18 [44800/48000 (93%)]\tLoss: 0.215128\n",
            "\n",
            "Validation set: Average loss: 0.2035, Accuracy: 11282/12000 (94%)\n",
            "\n",
            "torch.Size([32]) torch.Size([32, 10])\n",
            "Train Epoch: 19 [0/48000 (0%)]\tLoss: 0.259226\n",
            "Train Epoch: 19 [6400/48000 (13%)]\tLoss: 0.032054\n",
            "Train Epoch: 19 [12800/48000 (27%)]\tLoss: 0.075714\n",
            "Train Epoch: 19 [19200/48000 (40%)]\tLoss: 0.128391\n",
            "Train Epoch: 19 [25600/48000 (53%)]\tLoss: 0.161298\n",
            "Train Epoch: 19 [32000/48000 (67%)]\tLoss: 0.510311\n",
            "Train Epoch: 19 [38400/48000 (80%)]\tLoss: 0.039007\n",
            "Train Epoch: 19 [44800/48000 (93%)]\tLoss: 0.082920\n",
            "\n",
            "Validation set: Average loss: 0.1982, Accuracy: 11301/12000 (94%)\n",
            "\n",
            "torch.Size([32]) torch.Size([32, 10])\n",
            "Train Epoch: 20 [0/48000 (0%)]\tLoss: 0.040846\n",
            "Train Epoch: 20 [6400/48000 (13%)]\tLoss: 0.173304\n",
            "Train Epoch: 20 [12800/48000 (27%)]\tLoss: 0.029403\n",
            "Train Epoch: 20 [19200/48000 (40%)]\tLoss: 0.110519\n",
            "Train Epoch: 20 [25600/48000 (53%)]\tLoss: 0.254314\n",
            "Train Epoch: 20 [32000/48000 (67%)]\tLoss: 0.106114\n",
            "Train Epoch: 20 [38400/48000 (80%)]\tLoss: 0.035041\n",
            "Train Epoch: 20 [44800/48000 (93%)]\tLoss: 0.093618\n",
            "\n",
            "Validation set: Average loss: 0.1975, Accuracy: 11306/12000 (94%)\n",
            "\n",
            "torch.Size([32]) torch.Size([32, 10])\n",
            "Train Epoch: 21 [0/48000 (0%)]\tLoss: 0.108856\n",
            "Train Epoch: 21 [6400/48000 (13%)]\tLoss: 0.061635\n",
            "Train Epoch: 21 [12800/48000 (27%)]\tLoss: 0.235661\n",
            "Train Epoch: 21 [19200/48000 (40%)]\tLoss: 0.197246\n",
            "Train Epoch: 21 [25600/48000 (53%)]\tLoss: 0.332718\n",
            "Train Epoch: 21 [32000/48000 (67%)]\tLoss: 0.292824\n",
            "Train Epoch: 21 [38400/48000 (80%)]\tLoss: 0.072618\n",
            "Train Epoch: 21 [44800/48000 (93%)]\tLoss: 0.058166\n",
            "\n",
            "Validation set: Average loss: 0.1937, Accuracy: 11302/12000 (94%)\n",
            "\n",
            "torch.Size([32]) torch.Size([32, 10])\n",
            "Train Epoch: 22 [0/48000 (0%)]\tLoss: 0.268044\n",
            "Train Epoch: 22 [6400/48000 (13%)]\tLoss: 0.149995\n",
            "Train Epoch: 22 [12800/48000 (27%)]\tLoss: 0.467542\n",
            "Train Epoch: 22 [19200/48000 (40%)]\tLoss: 0.045847\n",
            "Train Epoch: 22 [25600/48000 (53%)]\tLoss: 0.036417\n",
            "Train Epoch: 22 [32000/48000 (67%)]\tLoss: 0.024639\n",
            "Train Epoch: 22 [38400/48000 (80%)]\tLoss: 0.225389\n",
            "Train Epoch: 22 [44800/48000 (93%)]\tLoss: 0.337025\n",
            "\n",
            "Validation set: Average loss: 0.1909, Accuracy: 11323/12000 (94%)\n",
            "\n",
            "torch.Size([32]) torch.Size([32, 10])\n",
            "Train Epoch: 23 [0/48000 (0%)]\tLoss: 0.080114\n",
            "Train Epoch: 23 [6400/48000 (13%)]\tLoss: 0.084219\n",
            "Train Epoch: 23 [12800/48000 (27%)]\tLoss: 0.078452\n",
            "Train Epoch: 23 [19200/48000 (40%)]\tLoss: 0.070983\n",
            "Train Epoch: 23 [25600/48000 (53%)]\tLoss: 0.059509\n",
            "Train Epoch: 23 [32000/48000 (67%)]\tLoss: 0.124248\n",
            "Train Epoch: 23 [38400/48000 (80%)]\tLoss: 0.173276\n",
            "Train Epoch: 23 [44800/48000 (93%)]\tLoss: 0.465503\n",
            "\n",
            "Validation set: Average loss: 0.1903, Accuracy: 11337/12000 (94%)\n",
            "\n",
            "torch.Size([32]) torch.Size([32, 10])\n",
            "Train Epoch: 24 [0/48000 (0%)]\tLoss: 0.098929\n",
            "Train Epoch: 24 [6400/48000 (13%)]\tLoss: 0.158642\n",
            "Train Epoch: 24 [12800/48000 (27%)]\tLoss: 0.100256\n",
            "Train Epoch: 24 [19200/48000 (40%)]\tLoss: 0.220176\n",
            "Train Epoch: 24 [25600/48000 (53%)]\tLoss: 0.049823\n",
            "Train Epoch: 24 [32000/48000 (67%)]\tLoss: 0.169162\n",
            "Train Epoch: 24 [38400/48000 (80%)]\tLoss: 0.285179\n",
            "Train Epoch: 24 [44800/48000 (93%)]\tLoss: 0.041353\n",
            "\n",
            "Validation set: Average loss: 0.1893, Accuracy: 11351/12000 (95%)\n",
            "\n",
            "torch.Size([32]) torch.Size([32, 10])\n",
            "Train Epoch: 25 [0/48000 (0%)]\tLoss: 0.339605\n",
            "Train Epoch: 25 [6400/48000 (13%)]\tLoss: 0.129443\n",
            "Train Epoch: 25 [12800/48000 (27%)]\tLoss: 0.343644\n",
            "Train Epoch: 25 [19200/48000 (40%)]\tLoss: 0.090622\n",
            "Train Epoch: 25 [25600/48000 (53%)]\tLoss: 0.232191\n",
            "Train Epoch: 25 [32000/48000 (67%)]\tLoss: 0.108624\n",
            "Train Epoch: 25 [38400/48000 (80%)]\tLoss: 0.149153\n",
            "Train Epoch: 25 [44800/48000 (93%)]\tLoss: 0.262679\n",
            "\n",
            "Validation set: Average loss: 0.1851, Accuracy: 11356/12000 (95%)\n",
            "\n",
            "torch.Size([32]) torch.Size([32, 10])\n",
            "Train Epoch: 26 [0/48000 (0%)]\tLoss: 0.067205\n",
            "Train Epoch: 26 [6400/48000 (13%)]\tLoss: 0.295845\n",
            "Train Epoch: 26 [12800/48000 (27%)]\tLoss: 0.054124\n",
            "Train Epoch: 26 [19200/48000 (40%)]\tLoss: 0.105036\n",
            "Train Epoch: 26 [25600/48000 (53%)]\tLoss: 0.116307\n",
            "Train Epoch: 26 [32000/48000 (67%)]\tLoss: 0.037576\n",
            "Train Epoch: 26 [38400/48000 (80%)]\tLoss: 0.212936\n",
            "Train Epoch: 26 [44800/48000 (93%)]\tLoss: 0.233557\n",
            "\n",
            "Validation set: Average loss: 0.1833, Accuracy: 11353/12000 (95%)\n",
            "\n",
            "torch.Size([32]) torch.Size([32, 10])\n",
            "Train Epoch: 27 [0/48000 (0%)]\tLoss: 0.040285\n",
            "Train Epoch: 27 [6400/48000 (13%)]\tLoss: 0.057135\n",
            "Train Epoch: 27 [12800/48000 (27%)]\tLoss: 0.087604\n",
            "Train Epoch: 27 [19200/48000 (40%)]\tLoss: 0.034654\n",
            "Train Epoch: 27 [25600/48000 (53%)]\tLoss: 0.102137\n",
            "Train Epoch: 27 [32000/48000 (67%)]\tLoss: 0.201398\n",
            "Train Epoch: 27 [38400/48000 (80%)]\tLoss: 0.066818\n",
            "Train Epoch: 27 [44800/48000 (93%)]\tLoss: 0.058141\n",
            "\n",
            "Validation set: Average loss: 0.1821, Accuracy: 11354/12000 (95%)\n",
            "\n",
            "torch.Size([32]) torch.Size([32, 10])\n",
            "Train Epoch: 28 [0/48000 (0%)]\tLoss: 0.135025\n",
            "Train Epoch: 28 [6400/48000 (13%)]\tLoss: 0.304388\n",
            "Train Epoch: 28 [12800/48000 (27%)]\tLoss: 0.049744\n",
            "Train Epoch: 28 [19200/48000 (40%)]\tLoss: 0.071564\n",
            "Train Epoch: 28 [25600/48000 (53%)]\tLoss: 0.060068\n",
            "Train Epoch: 28 [32000/48000 (67%)]\tLoss: 0.121359\n",
            "Train Epoch: 28 [38400/48000 (80%)]\tLoss: 0.111376\n",
            "Train Epoch: 28 [44800/48000 (93%)]\tLoss: 0.123303\n",
            "\n",
            "Validation set: Average loss: 0.1827, Accuracy: 11356/12000 (95%)\n",
            "\n",
            "torch.Size([32]) torch.Size([32, 10])\n",
            "Train Epoch: 29 [0/48000 (0%)]\tLoss: 0.180635\n",
            "Train Epoch: 29 [6400/48000 (13%)]\tLoss: 0.098862\n",
            "Train Epoch: 29 [12800/48000 (27%)]\tLoss: 0.298953\n",
            "Train Epoch: 29 [19200/48000 (40%)]\tLoss: 0.172488\n",
            "Train Epoch: 29 [25600/48000 (53%)]\tLoss: 0.090343\n",
            "Train Epoch: 29 [32000/48000 (67%)]\tLoss: 0.096610\n",
            "Train Epoch: 29 [38400/48000 (80%)]\tLoss: 0.081848\n",
            "Train Epoch: 29 [44800/48000 (93%)]\tLoss: 0.349051\n",
            "\n",
            "Validation set: Average loss: 0.1806, Accuracy: 11373/12000 (95%)\n",
            "\n",
            "torch.Size([32]) torch.Size([32, 10])\n",
            "Train Epoch: 30 [0/48000 (0%)]\tLoss: 0.251708\n",
            "Train Epoch: 30 [6400/48000 (13%)]\tLoss: 0.068005\n",
            "Train Epoch: 30 [12800/48000 (27%)]\tLoss: 0.105985\n",
            "Train Epoch: 30 [19200/48000 (40%)]\tLoss: 0.128977\n",
            "Train Epoch: 30 [25600/48000 (53%)]\tLoss: 0.280428\n",
            "Train Epoch: 30 [32000/48000 (67%)]\tLoss: 0.172551\n",
            "Train Epoch: 30 [38400/48000 (80%)]\tLoss: 0.049371\n",
            "Train Epoch: 30 [44800/48000 (93%)]\tLoss: 0.077953\n",
            "\n",
            "Validation set: Average loss: 0.1813, Accuracy: 11369/12000 (95%)\n",
            "\n",
            "torch.Size([32]) torch.Size([32, 10])\n",
            "Train Epoch: 31 [0/48000 (0%)]\tLoss: 0.162695\n",
            "Train Epoch: 31 [6400/48000 (13%)]\tLoss: 0.064732\n",
            "Train Epoch: 31 [12800/48000 (27%)]\tLoss: 0.281634\n",
            "Train Epoch: 31 [19200/48000 (40%)]\tLoss: 0.026704\n",
            "Train Epoch: 31 [25600/48000 (53%)]\tLoss: 0.012734\n",
            "Train Epoch: 31 [32000/48000 (67%)]\tLoss: 0.225346\n",
            "Train Epoch: 31 [38400/48000 (80%)]\tLoss: 0.069339\n",
            "Train Epoch: 31 [44800/48000 (93%)]\tLoss: 0.081251\n",
            "\n",
            "Validation set: Average loss: 0.1781, Accuracy: 11377/12000 (95%)\n",
            "\n",
            "torch.Size([32]) torch.Size([32, 10])\n",
            "Train Epoch: 32 [0/48000 (0%)]\tLoss: 0.138709\n",
            "Train Epoch: 32 [6400/48000 (13%)]\tLoss: 0.274133\n",
            "Train Epoch: 32 [12800/48000 (27%)]\tLoss: 0.220046\n",
            "Train Epoch: 32 [19200/48000 (40%)]\tLoss: 0.136891\n",
            "Train Epoch: 32 [25600/48000 (53%)]\tLoss: 0.144826\n",
            "Train Epoch: 32 [32000/48000 (67%)]\tLoss: 0.144840\n",
            "Train Epoch: 32 [38400/48000 (80%)]\tLoss: 0.142360\n",
            "Train Epoch: 32 [44800/48000 (93%)]\tLoss: 0.036531\n",
            "\n",
            "Validation set: Average loss: 0.1823, Accuracy: 11358/12000 (95%)\n",
            "\n",
            "torch.Size([32]) torch.Size([32, 10])\n",
            "Train Epoch: 33 [0/48000 (0%)]\tLoss: 0.135959\n",
            "Train Epoch: 33 [6400/48000 (13%)]\tLoss: 0.109657\n",
            "Train Epoch: 33 [12800/48000 (27%)]\tLoss: 0.071271\n",
            "Train Epoch: 33 [19200/48000 (40%)]\tLoss: 0.239109\n",
            "Train Epoch: 33 [25600/48000 (53%)]\tLoss: 0.102903\n",
            "Train Epoch: 33 [32000/48000 (67%)]\tLoss: 0.062898\n",
            "Train Epoch: 33 [38400/48000 (80%)]\tLoss: 0.288236\n",
            "Train Epoch: 33 [44800/48000 (93%)]\tLoss: 0.051983\n",
            "\n",
            "Validation set: Average loss: 0.1776, Accuracy: 11360/12000 (95%)\n",
            "\n",
            "torch.Size([32]) torch.Size([32, 10])\n",
            "Train Epoch: 34 [0/48000 (0%)]\tLoss: 0.131618\n",
            "Train Epoch: 34 [6400/48000 (13%)]\tLoss: 0.097533\n",
            "Train Epoch: 34 [12800/48000 (27%)]\tLoss: 0.290388\n",
            "Train Epoch: 34 [19200/48000 (40%)]\tLoss: 0.083013\n",
            "Train Epoch: 34 [25600/48000 (53%)]\tLoss: 0.191348\n",
            "Train Epoch: 34 [32000/48000 (67%)]\tLoss: 0.167190\n",
            "Train Epoch: 34 [38400/48000 (80%)]\tLoss: 0.442479\n",
            "Train Epoch: 34 [44800/48000 (93%)]\tLoss: 0.040603\n",
            "\n",
            "Validation set: Average loss: 0.1778, Accuracy: 11364/12000 (95%)\n",
            "\n",
            "torch.Size([32]) torch.Size([32, 10])\n",
            "Train Epoch: 35 [0/48000 (0%)]\tLoss: 0.080813\n",
            "Train Epoch: 35 [6400/48000 (13%)]\tLoss: 0.018483\n",
            "Train Epoch: 35 [12800/48000 (27%)]\tLoss: 0.120417\n",
            "Train Epoch: 35 [19200/48000 (40%)]\tLoss: 0.098526\n",
            "Train Epoch: 35 [25600/48000 (53%)]\tLoss: 0.133078\n",
            "Train Epoch: 35 [32000/48000 (67%)]\tLoss: 0.024405\n",
            "Train Epoch: 35 [38400/48000 (80%)]\tLoss: 0.106441\n",
            "Train Epoch: 35 [44800/48000 (93%)]\tLoss: 0.056821\n",
            "\n",
            "Validation set: Average loss: 0.1772, Accuracy: 11372/12000 (95%)\n",
            "\n",
            "torch.Size([32]) torch.Size([32, 10])\n",
            "Train Epoch: 36 [0/48000 (0%)]\tLoss: 0.138651\n",
            "Train Epoch: 36 [6400/48000 (13%)]\tLoss: 0.182178\n",
            "Train Epoch: 36 [12800/48000 (27%)]\tLoss: 0.303252\n",
            "Train Epoch: 36 [19200/48000 (40%)]\tLoss: 0.052988\n",
            "Train Epoch: 36 [25600/48000 (53%)]\tLoss: 0.133366\n",
            "Train Epoch: 36 [32000/48000 (67%)]\tLoss: 0.191259\n",
            "Train Epoch: 36 [38400/48000 (80%)]\tLoss: 0.027470\n",
            "Train Epoch: 36 [44800/48000 (93%)]\tLoss: 0.124175\n",
            "\n",
            "Validation set: Average loss: 0.1747, Accuracy: 11375/12000 (95%)\n",
            "\n",
            "torch.Size([32]) torch.Size([32, 10])\n",
            "Train Epoch: 37 [0/48000 (0%)]\tLoss: 0.067290\n",
            "Train Epoch: 37 [6400/48000 (13%)]\tLoss: 0.030127\n",
            "Train Epoch: 37 [12800/48000 (27%)]\tLoss: 0.219798\n",
            "Train Epoch: 37 [19200/48000 (40%)]\tLoss: 0.023292\n",
            "Train Epoch: 37 [25600/48000 (53%)]\tLoss: 0.127519\n",
            "Train Epoch: 37 [32000/48000 (67%)]\tLoss: 0.097152\n",
            "Train Epoch: 37 [38400/48000 (80%)]\tLoss: 0.166053\n",
            "Train Epoch: 37 [44800/48000 (93%)]\tLoss: 0.102035\n",
            "\n",
            "Validation set: Average loss: 0.1778, Accuracy: 11383/12000 (95%)\n",
            "\n",
            "torch.Size([32]) torch.Size([32, 10])\n",
            "Train Epoch: 38 [0/48000 (0%)]\tLoss: 0.048692\n",
            "Train Epoch: 38 [6400/48000 (13%)]\tLoss: 0.019152\n",
            "Train Epoch: 38 [12800/48000 (27%)]\tLoss: 0.290737\n",
            "Train Epoch: 38 [19200/48000 (40%)]\tLoss: 0.137402\n",
            "Train Epoch: 38 [25600/48000 (53%)]\tLoss: 0.036397\n",
            "Train Epoch: 38 [32000/48000 (67%)]\tLoss: 0.112537\n",
            "Train Epoch: 38 [38400/48000 (80%)]\tLoss: 0.044764\n",
            "Train Epoch: 38 [44800/48000 (93%)]\tLoss: 0.094095\n",
            "\n",
            "Validation set: Average loss: 0.1760, Accuracy: 11391/12000 (95%)\n",
            "\n",
            "torch.Size([32]) torch.Size([32, 10])\n",
            "Train Epoch: 39 [0/48000 (0%)]\tLoss: 0.637308\n",
            "Train Epoch: 39 [6400/48000 (13%)]\tLoss: 0.207606\n",
            "Train Epoch: 39 [12800/48000 (27%)]\tLoss: 0.194922\n",
            "Train Epoch: 39 [19200/48000 (40%)]\tLoss: 0.028017\n",
            "Train Epoch: 39 [25600/48000 (53%)]\tLoss: 0.166848\n",
            "Train Epoch: 39 [32000/48000 (67%)]\tLoss: 0.159348\n",
            "Train Epoch: 39 [38400/48000 (80%)]\tLoss: 0.020345\n",
            "Train Epoch: 39 [44800/48000 (93%)]\tLoss: 0.082740\n",
            "\n",
            "Validation set: Average loss: 0.1751, Accuracy: 11374/12000 (95%)\n",
            "\n",
            "torch.Size([32]) torch.Size([32, 10])\n",
            "Train Epoch: 40 [0/48000 (0%)]\tLoss: 0.156084\n",
            "Train Epoch: 40 [6400/48000 (13%)]\tLoss: 0.044395\n",
            "Train Epoch: 40 [12800/48000 (27%)]\tLoss: 0.185661\n",
            "Train Epoch: 40 [19200/48000 (40%)]\tLoss: 0.031286\n",
            "Train Epoch: 40 [25600/48000 (53%)]\tLoss: 0.054321\n",
            "Train Epoch: 40 [32000/48000 (67%)]\tLoss: 0.016531\n",
            "Train Epoch: 40 [38400/48000 (80%)]\tLoss: 0.021756\n",
            "Train Epoch: 40 [44800/48000 (93%)]\tLoss: 0.178794\n",
            "\n",
            "Validation set: Average loss: 0.1748, Accuracy: 11395/12000 (95%)\n",
            "\n",
            "torch.Size([32]) torch.Size([32, 10])\n",
            "Train Epoch: 41 [0/48000 (0%)]\tLoss: 0.373021\n",
            "Train Epoch: 41 [6400/48000 (13%)]\tLoss: 0.068502\n",
            "Train Epoch: 41 [12800/48000 (27%)]\tLoss: 0.079424\n",
            "Train Epoch: 41 [19200/48000 (40%)]\tLoss: 0.056162\n",
            "Train Epoch: 41 [25600/48000 (53%)]\tLoss: 0.161510\n",
            "Train Epoch: 41 [32000/48000 (67%)]\tLoss: 0.290974\n",
            "Train Epoch: 41 [38400/48000 (80%)]\tLoss: 0.151250\n",
            "Train Epoch: 41 [44800/48000 (93%)]\tLoss: 0.054048\n",
            "\n",
            "Validation set: Average loss: 0.1757, Accuracy: 11368/12000 (95%)\n",
            "\n",
            "torch.Size([32]) torch.Size([32, 10])\n",
            "Train Epoch: 42 [0/48000 (0%)]\tLoss: 0.032020\n",
            "Train Epoch: 42 [6400/48000 (13%)]\tLoss: 0.143841\n",
            "Train Epoch: 42 [12800/48000 (27%)]\tLoss: 0.110194\n",
            "Train Epoch: 42 [19200/48000 (40%)]\tLoss: 0.033837\n",
            "Train Epoch: 42 [25600/48000 (53%)]\tLoss: 0.082824\n",
            "Train Epoch: 42 [32000/48000 (67%)]\tLoss: 0.064018\n",
            "Train Epoch: 42 [38400/48000 (80%)]\tLoss: 0.054422\n",
            "Train Epoch: 42 [44800/48000 (93%)]\tLoss: 0.196336\n",
            "\n",
            "Validation set: Average loss: 0.1761, Accuracy: 11384/12000 (95%)\n",
            "\n",
            "torch.Size([32]) torch.Size([32, 10])\n",
            "Train Epoch: 43 [0/48000 (0%)]\tLoss: 0.100573\n",
            "Train Epoch: 43 [6400/48000 (13%)]\tLoss: 0.037885\n",
            "Train Epoch: 43 [12800/48000 (27%)]\tLoss: 0.024774\n",
            "Train Epoch: 43 [19200/48000 (40%)]\tLoss: 0.113259\n",
            "Train Epoch: 43 [25600/48000 (53%)]\tLoss: 0.331571\n",
            "Train Epoch: 43 [32000/48000 (67%)]\tLoss: 0.156241\n",
            "Train Epoch: 43 [38400/48000 (80%)]\tLoss: 0.119673\n",
            "Train Epoch: 43 [44800/48000 (93%)]\tLoss: 0.133812\n",
            "\n",
            "Validation set: Average loss: 0.1730, Accuracy: 11384/12000 (95%)\n",
            "\n",
            "torch.Size([32]) torch.Size([32, 10])\n",
            "Train Epoch: 44 [0/48000 (0%)]\tLoss: 0.182920\n",
            "Train Epoch: 44 [6400/48000 (13%)]\tLoss: 0.034681\n",
            "Train Epoch: 44 [12800/48000 (27%)]\tLoss: 0.077938\n",
            "Train Epoch: 44 [19200/48000 (40%)]\tLoss: 0.210680\n",
            "Train Epoch: 44 [25600/48000 (53%)]\tLoss: 0.058884\n",
            "Train Epoch: 44 [32000/48000 (67%)]\tLoss: 0.166620\n",
            "Train Epoch: 44 [38400/48000 (80%)]\tLoss: 0.167258\n",
            "Train Epoch: 44 [44800/48000 (93%)]\tLoss: 0.372893\n",
            "\n",
            "Validation set: Average loss: 0.1759, Accuracy: 11367/12000 (95%)\n",
            "\n",
            "torch.Size([32]) torch.Size([32, 10])\n",
            "Train Epoch: 45 [0/48000 (0%)]\tLoss: 0.158374\n",
            "Train Epoch: 45 [6400/48000 (13%)]\tLoss: 0.418108\n",
            "Train Epoch: 45 [12800/48000 (27%)]\tLoss: 0.200538\n",
            "Train Epoch: 45 [19200/48000 (40%)]\tLoss: 0.045431\n",
            "Train Epoch: 45 [25600/48000 (53%)]\tLoss: 0.061246\n",
            "Train Epoch: 45 [32000/48000 (67%)]\tLoss: 0.270195\n",
            "Train Epoch: 45 [38400/48000 (80%)]\tLoss: 0.198289\n",
            "Train Epoch: 45 [44800/48000 (93%)]\tLoss: 0.138953\n",
            "\n",
            "Validation set: Average loss: 0.1783, Accuracy: 11355/12000 (95%)\n",
            "\n",
            "torch.Size([32]) torch.Size([32, 10])\n",
            "Train Epoch: 46 [0/48000 (0%)]\tLoss: 0.034017\n",
            "Train Epoch: 46 [6400/48000 (13%)]\tLoss: 0.073842\n",
            "Train Epoch: 46 [12800/48000 (27%)]\tLoss: 0.029260\n",
            "Train Epoch: 46 [19200/48000 (40%)]\tLoss: 0.155346\n",
            "Train Epoch: 46 [25600/48000 (53%)]\tLoss: 0.062112\n",
            "Train Epoch: 46 [32000/48000 (67%)]\tLoss: 0.025374\n",
            "Train Epoch: 46 [38400/48000 (80%)]\tLoss: 0.050692\n",
            "Train Epoch: 46 [44800/48000 (93%)]\tLoss: 0.091276\n",
            "\n",
            "Validation set: Average loss: 0.1718, Accuracy: 11392/12000 (95%)\n",
            "\n",
            "torch.Size([32]) torch.Size([32, 10])\n",
            "Train Epoch: 47 [0/48000 (0%)]\tLoss: 0.090577\n",
            "Train Epoch: 47 [6400/48000 (13%)]\tLoss: 0.021024\n",
            "Train Epoch: 47 [12800/48000 (27%)]\tLoss: 0.121984\n",
            "Train Epoch: 47 [19200/48000 (40%)]\tLoss: 0.035655\n",
            "Train Epoch: 47 [25600/48000 (53%)]\tLoss: 0.162632\n",
            "Train Epoch: 47 [32000/48000 (67%)]\tLoss: 0.079732\n",
            "Train Epoch: 47 [38400/48000 (80%)]\tLoss: 0.063734\n",
            "Train Epoch: 47 [44800/48000 (93%)]\tLoss: 0.078254\n",
            "\n",
            "Validation set: Average loss: 0.1727, Accuracy: 11376/12000 (95%)\n",
            "\n",
            "torch.Size([32]) torch.Size([32, 10])\n",
            "Train Epoch: 48 [0/48000 (0%)]\tLoss: 0.010317\n",
            "Train Epoch: 48 [6400/48000 (13%)]\tLoss: 0.090597\n",
            "Train Epoch: 48 [12800/48000 (27%)]\tLoss: 0.013228\n",
            "Train Epoch: 48 [19200/48000 (40%)]\tLoss: 0.012984\n",
            "Train Epoch: 48 [25600/48000 (53%)]\tLoss: 0.043006\n",
            "Train Epoch: 48 [32000/48000 (67%)]\tLoss: 0.047336\n",
            "Train Epoch: 48 [38400/48000 (80%)]\tLoss: 0.321248\n",
            "Train Epoch: 48 [44800/48000 (93%)]\tLoss: 0.056046\n",
            "\n",
            "Validation set: Average loss: 0.1693, Accuracy: 11401/12000 (95%)\n",
            "\n",
            "torch.Size([32]) torch.Size([32, 10])\n",
            "Train Epoch: 49 [0/48000 (0%)]\tLoss: 0.137609\n",
            "Train Epoch: 49 [6400/48000 (13%)]\tLoss: 0.019088\n",
            "Train Epoch: 49 [12800/48000 (27%)]\tLoss: 0.029495\n",
            "Train Epoch: 49 [19200/48000 (40%)]\tLoss: 0.135918\n",
            "Train Epoch: 49 [25600/48000 (53%)]\tLoss: 0.077214\n",
            "Train Epoch: 49 [32000/48000 (67%)]\tLoss: 0.038420\n",
            "Train Epoch: 49 [38400/48000 (80%)]\tLoss: 0.067517\n",
            "Train Epoch: 49 [44800/48000 (93%)]\tLoss: 0.455494\n",
            "\n",
            "Validation set: Average loss: 0.1715, Accuracy: 11399/12000 (95%)\n",
            "\n",
            "torch.Size([32]) torch.Size([32, 10])\n",
            "Train Epoch: 50 [0/48000 (0%)]\tLoss: 0.429282\n",
            "Train Epoch: 50 [6400/48000 (13%)]\tLoss: 0.165586\n",
            "Train Epoch: 50 [12800/48000 (27%)]\tLoss: 0.030603\n",
            "Train Epoch: 50 [19200/48000 (40%)]\tLoss: 0.081664\n",
            "Train Epoch: 50 [25600/48000 (53%)]\tLoss: 0.085115\n",
            "Train Epoch: 50 [32000/48000 (67%)]\tLoss: 0.177931\n",
            "Train Epoch: 50 [38400/48000 (80%)]\tLoss: 0.026402\n",
            "Train Epoch: 50 [44800/48000 (93%)]\tLoss: 0.170006\n",
            "\n",
            "Validation set: Average loss: 0.1720, Accuracy: 11389/12000 (95%)\n",
            "\n",
            "\n",
            "Test set: Average loss: 0.1520, Accuracy: 9569/10000 (96%)\n",
            "\n"
          ]
        }
      ],
      "source": [
        "for epoch in range(epochs):\n",
        "    train(log_interval, model, device, train_loader, optimizer, epoch)\n",
        "    validation(model, device, validation_loader)\n",
        "test(model, device, test_loader)"
      ]
    },
    {
      "cell_type": "markdown",
      "metadata": {
        "id": "kS-ouOru6ha_"
      },
      "source": [
        "*학습된 모델을 바탕으로 각 사진 별 예측을 진행 해봅시다.*"
      ]
    },
    {
      "cell_type": "code",
      "execution_count": 64,
      "metadata": {
        "colab": {
          "base_uri": "https://localhost:8080/",
          "height": 466
        },
        "id": "Z4Rl-zJ-6ha_",
        "outputId": "9735dd96-da80-4235-d616-d11188694d6b"
      },
      "outputs": [
        {
          "data": {
            "image/png": "[encoded data removed]",
            "text/plain": [
              "<Figure size 640x480 with 1 Axes>"
            ]
          },
          "metadata": {},
          "output_type": "display_data"
        },
        {
          "name": "stdout",
          "output_type": "stream",
          "text": [
            "Predict:  tensor(3, device='cuda:0')\n",
            "Correct:  tensor(3)\n"
          ]
        }
      ],
      "source": [
        "image_batch, label = next(iter(train_loader))\n",
        "\n",
        "image_idx = 5\n",
        "\n",
        "img = image_batch[image_idx, 0, :, :]\n",
        "plt.imshow(img, 'gray')\n",
        "plt.show()\n",
        "img = img.to(device)\n",
        "output = model(img)\n",
        "pred = output.argmax(dim=1, keepdim=True)\n",
        "\n",
        "print(\"Predict: \", pred[0, 0])\n",
        "print(\"Correct: \", label[image_idx])"
      ]
    },
    {
      "cell_type": "code",
      "execution_count": null,
      "metadata": {
        "id": "jbpIkxSL_WCd"
      },
      "outputs": [],
      "source": []
    }
  ],
  "metadata": {
    "accelerator": "GPU",
    "colab": {
      "gpuType": "T4",
      "provenance": []
    },
    "kernelspec": {
      "display_name": "Python 3",
      "name": "python3"
    },
    "language_info": {
      "name": "python"
    }
  },
  "nbformat": 4,
  "nbformat_minor": 0
}
